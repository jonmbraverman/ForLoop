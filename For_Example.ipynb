{
  "metadata": {
    "language_info": {
      "codemirror_mode": {
        "name": "python",
        "version": 3
      },
      "file_extension": ".py",
      "mimetype": "text/x-python",
      "name": "python",
      "nbconvert_exporter": "python",
      "pygments_lexer": "ipython3",
      "version": "3.8"
    },
    "kernelspec": {
      "name": "python",
      "display_name": "Pyolite",
      "language": "python"
    }
  },
  "nbformat_minor": 4,
  "nbformat": 4,
  "cells": [
    {
      "cell_type": "code",
      "source": "for Value in [0,1,2,3,4,5,6,7,8,9]:  # ASSIGN each value in the range to \"Value\" one at a time to be processed by the \"For loop\"\n    print(\"Value = \",Value)\n",
      "metadata": {
        "trusted": true
      },
      "execution_count": 44,
      "outputs": [
        {
          "name": "stdout",
          "text": "Value =  0\nValue =  1\nValue =  2\nValue =  3\nValue =  4\nValue =  5\nValue =  6\nValue =  7\nValue =  8\nValue =  9\n",
          "output_type": "stream"
        }
      ]
    },
    {
      "cell_type": "code",
      "source": "x = [0,1,2,3,4,5,6,7,8,9]\nfor Value in x:  # ASSIGN each value in the range to \"Value\" one at a time to be processed by the \"For loop\"\n    print(\"Value = \",Value)",
      "metadata": {
        "trusted": true
      },
      "execution_count": 45,
      "outputs": [
        {
          "name": "stdout",
          "text": "Value =  0\nValue =  1\nValue =  2\nValue =  3\nValue =  4\nValue =  5\nValue =  6\nValue =  7\nValue =  8\nValue =  9\n",
          "output_type": "stream"
        }
      ]
    },
    {
      "cell_type": "code",
      "source": "x = []   # EMPTY list of values \"x\"\n\nprint(\"x values = \", x)  # PRINT the current list of \"x\" values\n\nfor Value in range(10):  # ASSIGN each value in the range to \"Value\" one at a time to be processed by the \"For loop\"\n    print(\"Value = \",Value)\n    x.append(Value)      # APPEND each value to the list \"x\" values\n    print(\"x values = \", x)  # PRINT the current list of \"x\" values\n\n\n#print(\"x values = \", x)  # PRINT the current list of \"x\" values",
      "metadata": {
        "trusted": true
      },
      "execution_count": null,
      "outputs": []
    },
    {
      "cell_type": "code",
      "source": "from matplotlib import pyplot as plt\n\nStartValue = 0\nStopValue = 10\nChangeinValue = 1\nx = []\ny = []\n\n#plt.scatter(x=x, y=y)\n#plt.show()\n\nprint(\"Create a X and Y values\")\n\nfor Value in range(StartValue, StopValue, ChangeinValue):\n    x.append(Value)\n    y.append(Value * 2)\n\nprint(\"x values = \", x)\nprint(\"y values = \", y)\n\n#plt.scatter(x=x, y=y)\n#plt.show()",
      "metadata": {
        "trusted": true
      },
      "execution_count": 30,
      "outputs": [
        {
          "name": "stdout",
          "text": "Create a X and Y values\nx values =  [0, 1, 2, 3, 4, 5, 6, 7, 8, 9]\ny values =  [0, 2, 4, 6, 8, 10, 12, 14, 16, 18]\n",
          "output_type": "stream"
        }
      ]
    },
    {
      "cell_type": "code",
      "source": "",
      "metadata": {
        "trusted": true
      },
      "execution_count": null,
      "outputs": []
    },
    {
      "cell_type": "code",
      "source": "",
      "metadata": {
        "trusted": true
      },
      "execution_count": null,
      "outputs": []
    }
  ]
}